{
  "nbformat": 4,
  "nbformat_minor": 0,
  "metadata": {
    "colab": {
      "name": "BinarySearchTree_Python3_ANSWERS.ipynb",
      "provenance": [],
      "include_colab_link": true
    },
    "kernelspec": {
      "name": "python3",
      "display_name": "Python 3"
    }
  },
  "cells": [
    {
      "cell_type": "markdown",
      "metadata": {
        "id": "view-in-github",
        "colab_type": "text"
      },
      "source": [
        "<a href=\"https://colab.research.google.com/github/ainlovescode/Coding_Interviews_From_Scratch/blob/master/Data_Structures/BinarySearchTree_Python3_ANSWERS.ipynb\" target=\"_parent\"><img src=\"https://colab.research.google.com/assets/colab-badge.svg\" alt=\"Open In Colab\"/></a>"
      ]
    },
    {
      "cell_type": "markdown",
      "metadata": {
        "id": "2f-uItFZUXM1",
        "colab_type": "text"
      },
      "source": [
        "## What is a Binary Search Tree?\n",
        "\n",
        "A **Binary Search Tree** or **BST** is a unique data structure that looks like a family tree. Each element in the tree is called a **node**, and stores some sort of chronological data - be it alphabetical or numerical.\n",
        "\n",
        "The **topmost node** on level 0 is also called the **root node**. The node(s) on the **lowest level** is called a **leaf / leaves**.\n",
        "\n",
        "Based on the diagram below, the root node is 7, and the leaves are 1, 5 and 14.\n",
        "\n",
        "![](Figure1_BST Example.png)\n",
        "\n",
        "## How does a BST organize its data?\n",
        "A BST organizes its data such that nodes in the **left subtree** of a node A are **smaller in value than** or **precedes** that of A. The diagram above shows that nodes with data 1, 2 and 5 are in the left subtree of the root node, which has a value of 7. Similarly, the node with value 2 has the node with value 1 in its left subtree.\n",
        "\n",
        "Conversely, the right subtree of a node A contains nodes of values **larger than** or **succeeding** that of node A. Check out the right subtree of the root node.\n",
        "\n",
        "Do take note that subtree nodes of node A are also called **children nodes** of A.\n",
        "\n",
        "## Traversing a BST i.e. exploring the data\n",
        "In computing, there are three main ways of traversing through a BST. We'll use Figure 1 as an example.\n",
        "*   PREORDER TRAVERSAL looks at the parent, left child then right child. Based on Figure 1 above, the traversal would be: 7, 2, 1, 5, 9, 14.\n",
        "*   INORDER TRAVERSAL looks at the left child, parent then right child. The traversal in Figure 1 would be: 1, 2, 5, 7, 9, 14. \n",
        "*   POSTORDER TRAVERSAL looks at the left child, right child then the parent. The traversal in Figure 1 would be: 1, 5, 2, 14, 9, 7."
      ]
    },
    {
      "cell_type": "markdown",
      "metadata": {
        "id": "JMAC0FdkbDqD",
        "colab_type": "text"
      },
      "source": [
        "## Building a BST\n",
        "Every time you try to insert a new Node into a BST, the node will be arranged such that the BST is as described in **How does a BST organize its data?**.\n",
        "\n",
        "That means you need a way to **create a new node**,  **check the value of the nodes** as you traverse, and **assign the parent and child nodes** to each other.\n",
        "\n",
        "One way to implement the above is by starting with a Node object class. This Node will store the node's value, and children nodes if they exist. Check out the code below!"
      ]
    },
    {
      "cell_type": "code",
      "metadata": {
        "id": "VrS4ePFPaoMY",
        "colab_type": "code",
        "colab": {}
      },
      "source": [
        "class Node:\n",
        "    def __init__(self, val):\n",
        "        self.val = val\n",
        "        self.left = None\n",
        "        self.right = None"
      ],
      "execution_count": 0,
      "outputs": []
    },
    {
      "cell_type": "markdown",
      "metadata": {
        "id": "icMlT4XpuESo",
        "colab_type": "text"
      },
      "source": [
        "Let's also create a method to insert the node to build our BST by **assigning it its parent node**, and whether the new node will be its **parent's left or right child node**."
      ]
    },
    {
      "cell_type": "code",
      "metadata": {
        "id": "nUxL9-Vzn7ZU",
        "colab_type": "code",
        "colab": {}
      },
      "source": [
        "def insertIntoBst(rootNode, newNode):\n",
        "    \"\"\"A method that inserts newNode into rootNode's tree\"\"\"\n",
        "    if rootNode.val is None:\n",
        "        raise Exception(\"Missing root node\")\n",
        "    elif newNode.val is None:\n",
        "        raise Exception(\"New node not initialised yet\")            \n",
        "    else:\n",
        "        if newNode.val > rootNode.val:\n",
        "            if rootNode.right is None:\n",
        "                rootNode.right = newNode\n",
        "            else:\n",
        "                insertIntoBst(rootNode.right, newNode)\n",
        "        elif newNode.val < rootNode.val:\n",
        "            if rootNode.left is None:\n",
        "                rootNode.left = newNode\n",
        "            else:\n",
        "                insertIntoBst(rootNode.left, newNode)\n",
        "        else:\n",
        "            rootNode.val = val"
      ],
      "execution_count": 0,
      "outputs": []
    },
    {
      "cell_type": "markdown",
      "metadata": {
        "id": "LvitdOEFu9Al",
        "colab_type": "text"
      },
      "source": [
        "Cool! Now let's build our first BST."
      ]
    },
    {
      "cell_type": "code",
      "metadata": {
        "id": "2XpFNm6foT1L",
        "colab_type": "code",
        "colab": {}
      },
      "source": [
        "'''\n",
        "Let's build a BST that looks like this:\n",
        "\n",
        "        4\n",
        "      /    \\\n",
        "    2        5\n",
        "   / \\\n",
        "  1   3\n",
        "'''    \n",
        "\n",
        "root = Node(4) \n",
        "insertIntoBst(root, Node(5))\n",
        "insertIntoBst(root, Node(2)) \n",
        "insertIntoBst(root, Node(1)) \n",
        "insertIntoBst(root, Node(3))"
      ],
      "execution_count": 0,
      "outputs": []
    },
    {
      "cell_type": "markdown",
      "metadata": {
        "id": "_QjPNOjWxqRI",
        "colab_type": "text"
      },
      "source": [
        "Now that we have our BST, let's try to code our three traversals.\n",
        "\n",
        "We want to run the methods **on their own** (i.e. not as a class method), with the **root node as the parameter** and **print** out the order of nodes traversed **on a single line**."
      ]
    },
    {
      "cell_type": "code",
      "metadata": {
        "id": "CrDaZXQIoLQc",
        "colab_type": "code",
        "colab": {}
      },
      "source": [
        "# Three ways of Traversing a Binary Search Tree\t\n",
        "def preorder(root): # root, left, right\n",
        "    print(root.val, end = \" \")\n",
        "    if root.left != None:\n",
        "        preorder(root.left)\n",
        "    if root.right != None:\n",
        "        preorder(root.right)\n",
        "\t\n",
        "def inorder(root): # left, root, right\n",
        "    if root.left != None:\n",
        "        inorder(root.left)\n",
        "    print(root.val, end = \" \")\n",
        "    if root.right != None:\n",
        "        inorder(root.right)\n",
        "\n",
        "def postorder(root): # left, right, root\n",
        "    if root.left != None:\n",
        "        postorder(root.left)\n",
        "    if root.right != None:\n",
        "        postorder(root.right)\n",
        "    print(root.val, end = \" \")"
      ],
      "execution_count": 0,
      "outputs": []
    },
    {
      "cell_type": "code",
      "metadata": {
        "id": "17gMGh31t9zw",
        "colab_type": "code",
        "outputId": "4a8997b1-2917-4a36-fc41-1848f91ebfb6",
        "colab": {
          "base_uri": "https://localhost:8080/",
          "height": 121
        }
      },
      "source": [
        "print(\"Preorder traversal of binary tree is\") # 4 2 1 3 5 \n",
        "preorder(root) \n",
        "  \n",
        "print(\"\\nInorder traversal of binary tree is\") # 1 2 3 4 5 \n",
        "inorder(root) \n",
        "  \n",
        "print(\"\\nPostorder traversal of binary tree is\") # 1 3 2 5 4 \n",
        "postorder(root)\t"
      ],
      "execution_count": 0,
      "outputs": [
        {
          "output_type": "stream",
          "text": [
            "Preorder traversal of binary tree is\n",
            "4 2 1 3 5 \n",
            "Inorder traversal of binary tree is\n",
            "1 2 3 4 5 \n",
            "Postorder traversal of binary tree is\n",
            "1 3 2 5 4 "
          ],
          "name": "stdout"
        }
      ]
    },
    {
      "cell_type": "markdown",
      "metadata": {
        "id": "fwhFAuVuyQSj",
        "colab_type": "text"
      },
      "source": [
        "If you got the right order, awesome job!"
      ]
    },
    {
      "cell_type": "markdown",
      "metadata": {
        "id": "0rl-AbU0blxO",
        "colab_type": "text"
      },
      "source": [
        "## BONUS: Coding Interview Question\n",
        "\n",
        "Implement an Iterator class with methods next() and hasNext() to iterate through a Binary Search Tree. \n",
        "\n",
        "You are given the root node of the BST, in which the nodes are objects of class Node with attributes:\n",
        "*    int val\n",
        "*    Node left\n",
        "*    Node right\n",
        "\n",
        "and the aforementioned class methods will run as follows:\n",
        "*   next(): returns the next smallest value in the BST\n",
        "*   hasNext(): checks if there are any nodes that have not been displayed with next() yet\n",
        "\n",
        "\n",
        "For example, given the BST discussed earlier, the printouts would be:\n",
        "```\n",
        "        4\n",
        "      /    \\\n",
        "    2        5\n",
        "   / \\\n",
        "  1   3\n",
        ">>> bstIterator = Iterator(rootNode)\n",
        ">>> bstIterator.next()\n",
        "1\n",
        ">>> bstIterator.next()\n",
        "2\n",
        ">>> bstIterator.hasNext()\n",
        "True\n",
        ">>> bstIterator.next()\n",
        "3\n",
        ">>> bstIterator.next()\n",
        "4\n",
        ">>> bstIterator.next()\n",
        "5\n",
        ">>> bstIterator.hasNext()\n",
        "False\n",
        "```\n",
        "Hints:\n",
        "*    A BST is already organised such that the **left child** value is **smaller** than the **parent node value**, and the **right child** value is **larger** than the **parent node value**.\n",
        "*    You need something to store the order of nodes in the BST.\n",
        "*    You may not need to traverse the entire tree to push the first smallest number.\n",
        "*    You probably have to recurse through the BST. How can you do so?\n",
        "*    You may need to code a helper method in addition to next() and hasNext().\n",
        "\n",
        "\n",
        "\n"
      ]
    },
    {
      "cell_type": "code",
      "metadata": {
        "id": "ShwLftXzhkRo",
        "colab_type": "code",
        "colab": {}
      },
      "source": [
        "class Iterator:\n",
        "    def __init__(self, rootNode):\n",
        "        if rootNode:\n",
        "            self.rootNode = rootNode\n",
        "            self.toShow = []\n",
        "            self.insertIntoStack(rootNode)\n",
        "                \n",
        "        else:\n",
        "            raise Exception(\"Missing node\")\n",
        "        \n",
        "    def hasNext(self):\n",
        "        if len(self.toShow) == 0:\n",
        "            return False\n",
        "        else:\n",
        "            return True\n",
        "\n",
        "    def next(self):\n",
        "        node = self.toShow.pop(0)\n",
        "        self.insertIntoStack(node.right)\n",
        "        return node.val\n",
        "        \n",
        "\n",
        "    def insertIntoStack(self, node):\n",
        "        if node:\n",
        "            self.toShow.insert(0, node)\n",
        "            self.insertIntoStack(node.left)"
      ],
      "execution_count": 0,
      "outputs": []
    },
    {
      "cell_type": "code",
      "metadata": {
        "id": "Mmb2rWqaiJuU",
        "colab_type": "code",
        "colab": {}
      },
      "source": [
        "rootNode = Node(4) \n",
        "insertIntoBst(rootNode, Node(5))\n",
        "insertIntoBst(rootNode, Node(2)) \n",
        "insertIntoBst(rootNode, Node(1)) \n",
        "insertIntoBst(rootNode, Node(3))\n",
        "\n",
        "iterator = Iterator(root)\n",
        "while(iterator.hasNext()):\n",
        "    print(iterator.next())"
      ],
      "execution_count": 0,
      "outputs": []
    }
  ]
}