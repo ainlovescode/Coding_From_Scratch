{
 "cells": [
  {
   "cell_type": "markdown",
   "metadata": {
    "colab_type": "text",
    "id": "2f-uItFZUXM1"
   },
   "source": [
    "## What is a Binary Search Tree?\n",
    "\n",
    "A **Binary Search Tree** or **BST** is a unique data structure that looks like a family tree. Each element in the tree is called a **node**, and stores some sort of chronological data - be it alphabetical or numerical.\n",
    "\n",
    "The **topmost node** on level 0 is also called the **root node**. The node(s) on the **lowest level** is called a **leaf / leaves**.\n",
    "\n",
    "Based on the diagram below, the root node is 7, and the leaves are 1, 5 and 14.\n",
    "\n",
    "|![](https://github.com/ainlovescode/Coding_Interviews_From_Scratch/blob/master/Data_Structures/DataStruc_Images/Figure1_BST%20Example.png?raw=true)|\n",
    "|---|\n",
    "|*Figure 1*|\n",
    "\n",
    "\n",
    "## How does a BST organize its data?\n",
    "A BST organizes its data such that nodes in the **left subtree** of a node A are **smaller in value than** or **precedes** that of A. The diagram above shows that nodes with data 1, 2 and 5 are in the left subtree of the root node, which has a value of 7. Similarly, the node with value 2 has the node with value 1 in its left subtree.\n",
    "\n",
    "Conversely, the right subtree of a node A contains nodes of values **larger than** or **succeeding** that of node A. Check out the right subtree of the root node.\n",
    "\n",
    "Do take note that subtree nodes of node A are also called **children nodes** of A.\n",
    "\n",
    "## Traversing a BST i.e. exploring the data\n",
    "In computing, there are four main ways of traversing through a BST, and these can also be split into two search categories.. We'll use Figure 1 as an example.\n",
    "\n",
    "*   DEPTH-FIRST SEARCH explores the tree as far down as possible in  abranch, before backtracking to the nearest node with an unexplored branch:\n",
    "    *   PREORDER TRAVERSAL looks at the parent, left child then right child. Based on Figure 1 above, the traversal would be: 7, 2, 1, 5, 9, 14.\n",
    "    *   INORDER TRAVERSAL looks at the left child, parent then right child. The traversal in Figure 1 would be: 1, 2, 5, 7, 9, 14. \n",
    "    *   POSTORDER TRAVERSAL looks at the left child, right child then the parent. The traversal in Figure 1 would be: 1, 5, 2, 14, 9, 7.\n",
    "    \n",
    "    \n",
    "*   BREADTH-FIRST SEARCH explores node on each level, from root to leaves. This is also called LEVELORDER TRAVERSAL, so the traversal in Figure 1 would be: 7, 2, 9, 1, 5, 14\n"
   ]
  },
  {
   "cell_type": "markdown",
   "metadata": {
    "colab_type": "text",
    "id": "JMAC0FdkbDqD"
   },
   "source": [
    "## Building a BST\n",
    "Every time you try to insert a new Node into a BST, the node will be arranged such that the BST is as described in **How does a BST organize its data?**.\n",
    "\n",
    "That means you need a way to **create a new node**,  **check the value of the nodes** as you traverse, and **assign the parent and child nodes** to each other.\n",
    "\n",
    "One way to implement the above is by starting with a Node object class. This Node will store the node's value, and children nodes if they exist. Let's also track its height (not the same as its level!)."
   ]
  },
  {
   "cell_type": "code",
   "execution_count": 13,
   "metadata": {
    "colab": {},
    "colab_type": "code",
    "id": "VrS4ePFPaoMY"
   },
   "outputs": [],
   "source": [
    "class Node:\n",
    "    def __init__(self, val):\n",
    "        self.val = val\n",
    "        self.left = None\n",
    "        self.right = None\n",
    "        \n",
    "    def getHeight(self):\n",
    "        if self.left and self.right:\n",
    "            return 1 + max(self.left.getHeight(), self.right.getHeight())\n",
    "        elif self.left:\n",
    "            return 1 + self.left.getHeight()\n",
    "        elif self.right:\n",
    "            return 1 + self.right.getHeight()\n",
    "        else:\n",
    "            return 1"
   ]
  },
  {
   "cell_type": "markdown",
   "metadata": {
    "colab_type": "text",
    "id": "icMlT4XpuESo"
   },
   "source": [
    "Let's also create a method to insert the node to build our BST by **assigning it its parent node**, and whether the new node will be its **parent's left or right child node**. We will not make this a Node class method, instead we pass the root Node of our BST and the new Node object."
   ]
  },
  {
   "cell_type": "code",
   "execution_count": 6,
   "metadata": {
    "colab": {},
    "colab_type": "code",
    "id": "nUxL9-Vzn7ZU"
   },
   "outputs": [],
   "source": [
    "def insertIntoBst(rootNode, newNode):\n",
    "    \"\"\"A method that inserts newNode into rootNode's tree\"\"\"\n",
    "    if rootNode.val is None:\n",
    "        raise Exception(\"Missing root node\")\n",
    "    elif newNode.val is None:\n",
    "        raise Exception(\"New node not initialised yet\")            \n",
    "    else:\n",
    "        # Implement your code!\n",
    "        # Hint: How does a BST organise its data?\n",
    "        pass"
   ]
  },
  {
   "cell_type": "markdown",
   "metadata": {
    "colab_type": "text",
    "id": "LvitdOEFu9Al"
   },
   "source": [
    "Cool! Now let's build our first BST."
   ]
  },
  {
   "cell_type": "code",
   "execution_count": 12,
   "metadata": {
    "colab": {},
    "colab_type": "code",
    "id": "2XpFNm6foT1L"
   },
   "outputs": [],
   "source": [
    "'''\n",
    "Let's build a BST that looks like this:\n",
    "\n",
    "        4\n",
    "      /    \\\n",
    "    2        5\n",
    "   / \\\n",
    "  1   3\n",
    "'''    \n",
    "# Run this code cell once you are done with the above insertIntoBST method.\n",
    "root = Node(4) \n",
    "insertIntoBst(root, Node(5))\n",
    "insertIntoBst(root, Node(2)) \n",
    "insertIntoBst(root, Node(1)) \n",
    "insertIntoBst(root, Node(3))"
   ]
  },
  {
   "cell_type": "markdown",
   "metadata": {
    "colab_type": "text",
    "id": "_QjPNOjWxqRI"
   },
   "source": [
    "Now that we have our BST, let's try to code our traversals.\n",
    "\n",
    "Ideally, we want to run the methods **on their own** (i.e. not as a class method), with the **root node as the parameter** and **print** out the order of nodes traversed **on a single line**. This is possible for the DEPTH-FIRST traversals!"
   ]
  },
  {
   "cell_type": "code",
   "execution_count": 8,
   "metadata": {
    "colab": {},
    "colab_type": "code",
    "id": "CrDaZXQIoLQc"
   },
   "outputs": [],
   "source": [
    "# Three ways of Traversing a Binary Search Tree\t\n",
    "def preorder(root):\n",
    "    '''\n",
    "    Traverse the root node, then its left child, then its right.\n",
    "    '''\n",
    "\t\n",
    "def inorder(root):\n",
    "    '''\n",
    "    Traverse the left child of the node, then the root node, then its right child.\n",
    "    '''\n",
    "\n",
    "def postorder(root):\n",
    "    '''\n",
    "    Traverse the left child node, then the right child, then the root node.\n",
    "    '''"
   ]
  },
  {
   "cell_type": "code",
   "execution_count": 9,
   "metadata": {
    "colab": {
     "base_uri": "https://localhost:8080/",
     "height": 121
    },
    "colab_type": "code",
    "id": "17gMGh31t9zw",
    "outputId": "4a8997b1-2917-4a36-fc41-1848f91ebfb6"
   },
   "outputs": [
    {
     "name": "stdout",
     "output_type": "stream",
     "text": [
      "Preorder traversal of binary tree is\n",
      "\n",
      "Inorder traversal of binary tree is\n",
      "\n",
      "Postorder traversal of binary tree is\n"
     ]
    }
   ],
   "source": [
    "print(\"Preorder traversal of binary tree is\") # 4 2 1 3 5 \n",
    "preorder(root) \n",
    "  \n",
    "print(\"\\nInorder traversal of binary tree is\") # 1 2 3 4 5 \n",
    "inorder(root) \n",
    "  \n",
    "print(\"\\nPostorder traversal of binary tree is\") # 1 3 2 5 4 \n",
    "postorder(root)\t"
   ]
  },
  {
   "cell_type": "markdown",
   "metadata": {},
   "source": [
    "For our LEVELORDER or BREADTH-FIRST traversals, we need to traverse each level of nodes (i.e. nodes at a certain **height**) so it's a little trickier. We will need more than one function to **traverse only nodes at a particular height**! We can use the getHeight method in our Node class to get the full height of our BST, and iterate from there."
   ]
  },
  {
   "cell_type": "code",
   "execution_count": 10,
   "metadata": {},
   "outputs": [
    {
     "name": "stdout",
     "output_type": "stream",
     "text": [
      "4\n"
     ]
    }
   ],
   "source": [
    "def printLevelOrder(root):\n",
    "    '''\n",
    "    Queries each node level by level\n",
    "    '''\n",
    "    h = root.getHeight()\n",
    "    for i in range(1, h+1): \n",
    "        printEachLevel(root, i)\n",
    "\n",
    "def printEachLevel(root, height):\n",
    "    '''\n",
    "    \n",
    "    '''\n",
    "    if root is None: \n",
    "        return\n",
    "    if height == 1: \n",
    "        print(root.val)\n",
    "    elif height > 1 : \n",
    "        printEachLevel(root.left , height-1) \n",
    "        printEachLevel(root.right , height-1)\n",
    "        \n",
    "printLevelOrder(root)"
   ]
  },
  {
   "cell_type": "markdown",
   "metadata": {
    "colab_type": "text",
    "id": "fwhFAuVuyQSj"
   },
   "source": [
    "If you got the right order, awesome job!\n",
    "\n",
    "Now let's consider how we can get the level of a specific node **value**, also passing the root Node object. Here's how you do it!"
   ]
  },
  {
   "cell_type": "code",
   "execution_count": 16,
   "metadata": {},
   "outputs": [
    {
     "ename": "AttributeError",
     "evalue": "'NoneType' object has no attribute 'val'",
     "output_type": "error",
     "traceback": [
      "\u001b[1;31m---------------------------------------------------------------------------\u001b[0m",
      "\u001b[1;31mAttributeError\u001b[0m                            Traceback (most recent call last)",
      "\u001b[1;32m<ipython-input-16-29abbdfb2765>\u001b[0m in \u001b[0;36m<module>\u001b[1;34m\u001b[0m\n\u001b[0;32m     10\u001b[0m     \u001b[1;32mreturn\u001b[0m \u001b[0mdownlevel\u001b[0m\u001b[1;33m\u001b[0m\u001b[1;33m\u001b[0m\u001b[0m\n\u001b[0;32m     11\u001b[0m \u001b[1;33m\u001b[0m\u001b[0m\n\u001b[1;32m---> 12\u001b[1;33m \u001b[0mgetLevel\u001b[0m\u001b[1;33m(\u001b[0m\u001b[0mroot\u001b[0m\u001b[1;33m,\u001b[0m \u001b[1;36m2\u001b[0m\u001b[1;33m)\u001b[0m\u001b[1;33m\u001b[0m\u001b[1;33m\u001b[0m\u001b[0m\n\u001b[0m",
      "\u001b[1;32m<ipython-input-16-29abbdfb2765>\u001b[0m in \u001b[0;36mgetLevel\u001b[1;34m(node, value, level)\u001b[0m\n\u001b[0;32m      3\u001b[0m         \u001b[1;32mreturn\u001b[0m \u001b[0mlevel\u001b[0m\u001b[1;33m\u001b[0m\u001b[1;33m\u001b[0m\u001b[0m\n\u001b[0;32m      4\u001b[0m \u001b[1;33m\u001b[0m\u001b[0m\n\u001b[1;32m----> 5\u001b[1;33m     \u001b[0mdownlevel\u001b[0m \u001b[1;33m=\u001b[0m \u001b[0mgetLevel\u001b[0m\u001b[1;33m(\u001b[0m\u001b[0mnode\u001b[0m\u001b[1;33m.\u001b[0m\u001b[0mleft\u001b[0m\u001b[1;33m,\u001b[0m \u001b[0mvalue\u001b[0m\u001b[1;33m,\u001b[0m \u001b[0mlevel\u001b[0m \u001b[1;33m+\u001b[0m \u001b[1;36m1\u001b[0m\u001b[1;33m)\u001b[0m\u001b[1;33m\u001b[0m\u001b[1;33m\u001b[0m\u001b[0m\n\u001b[0m\u001b[0;32m      6\u001b[0m     \u001b[1;32mif\u001b[0m \u001b[1;33m(\u001b[0m\u001b[0mdownlevel\u001b[0m \u001b[1;33m!=\u001b[0m \u001b[1;36m0\u001b[0m\u001b[1;33m)\u001b[0m \u001b[1;33m:\u001b[0m\u001b[1;33m\u001b[0m\u001b[1;33m\u001b[0m\u001b[0m\n\u001b[0;32m      7\u001b[0m         \u001b[1;32mreturn\u001b[0m \u001b[0mdownlevel\u001b[0m\u001b[1;33m\u001b[0m\u001b[1;33m\u001b[0m\u001b[0m\n",
      "\u001b[1;32m<ipython-input-16-29abbdfb2765>\u001b[0m in \u001b[0;36mgetLevel\u001b[1;34m(node, value, level)\u001b[0m\n\u001b[0;32m      1\u001b[0m \u001b[1;32mdef\u001b[0m \u001b[0mgetLevel\u001b[0m\u001b[1;33m(\u001b[0m\u001b[0mnode\u001b[0m\u001b[1;33m,\u001b[0m \u001b[0mvalue\u001b[0m\u001b[1;33m,\u001b[0m \u001b[0mlevel\u001b[0m \u001b[1;33m=\u001b[0m \u001b[1;36m0\u001b[0m\u001b[1;33m)\u001b[0m\u001b[1;33m:\u001b[0m\u001b[1;33m\u001b[0m\u001b[1;33m\u001b[0m\u001b[0m\n\u001b[1;32m----> 2\u001b[1;33m     \u001b[1;32mif\u001b[0m \u001b[1;33m(\u001b[0m\u001b[0mnode\u001b[0m\u001b[1;33m.\u001b[0m\u001b[0mval\u001b[0m \u001b[1;33m==\u001b[0m \u001b[0mvalue\u001b[0m\u001b[1;33m)\u001b[0m \u001b[1;33m:\u001b[0m\u001b[1;33m\u001b[0m\u001b[1;33m\u001b[0m\u001b[0m\n\u001b[0m\u001b[0;32m      3\u001b[0m         \u001b[1;32mreturn\u001b[0m \u001b[0mlevel\u001b[0m\u001b[1;33m\u001b[0m\u001b[1;33m\u001b[0m\u001b[0m\n\u001b[0;32m      4\u001b[0m \u001b[1;33m\u001b[0m\u001b[0m\n\u001b[0;32m      5\u001b[0m     \u001b[0mdownlevel\u001b[0m \u001b[1;33m=\u001b[0m \u001b[0mgetLevel\u001b[0m\u001b[1;33m(\u001b[0m\u001b[0mnode\u001b[0m\u001b[1;33m.\u001b[0m\u001b[0mleft\u001b[0m\u001b[1;33m,\u001b[0m \u001b[0mvalue\u001b[0m\u001b[1;33m,\u001b[0m \u001b[0mlevel\u001b[0m \u001b[1;33m+\u001b[0m \u001b[1;36m1\u001b[0m\u001b[1;33m)\u001b[0m\u001b[1;33m\u001b[0m\u001b[1;33m\u001b[0m\u001b[0m\n",
      "\u001b[1;31mAttributeError\u001b[0m: 'NoneType' object has no attribute 'val'"
     ]
    }
   ],
   "source": [
    "def getLevel(node, value, level = 0): \n",
    "    if (node.val == value) : \n",
    "        return level  \n",
    "  \n",
    "    downlevel = getLevel(node.left, value, level + 1)  \n",
    "    if (downlevel != 0) : \n",
    "        return downlevel  \n",
    "  \n",
    "    downlevel = getLevel(node.right, value, level + 1)  \n",
    "    return downlevel \n",
    "\n",
    "getLevel(root, 2)"
   ]
  },
  {
   "cell_type": "markdown",
   "metadata": {
    "colab_type": "text",
    "id": "0rl-AbU0blxO"
   },
   "source": [
    "## BONUS: Coding Interview Question\n",
    "\n",
    "Implement an Iterator class with methods next() and hasNext() to iterate through a Binary Search Tree using **inorder traversal**. \n",
    "\n",
    "You are given the root node of the BST, in which the nodes are objects of class Node with attributes:\n",
    "*    int val\n",
    "*    Node left\n",
    "*    Node right\n",
    "\n",
    "and the aforementioned class methods will run as follows:\n",
    "*   next(): returns the next smallest value in the BST\n",
    "*   hasNext(): checks if there are any nodes that have not been displayed with next() yet\n",
    "\n",
    "\n",
    "For example, given the BST discussed earlier, the printouts would be:\n",
    "```\n",
    "        4\n",
    "      /    \\\n",
    "    2        5\n",
    "   / \\\n",
    "  1   3\n",
    ">>> bstIterator = Iterator(rootNode)\n",
    ">>> bstIterator.next()\n",
    "1\n",
    ">>> bstIterator.next()\n",
    "2\n",
    ">>> bstIterator.hasNext()\n",
    "True\n",
    ">>> bstIterator.next()\n",
    "3\n",
    ">>> bstIterator.next()\n",
    "4\n",
    ">>> bstIterator.next()\n",
    "5\n",
    ">>> bstIterator.hasNext()\n",
    "False\n",
    "```\n",
    "Hints:\n",
    "*    A BST is already organised such that the **left child** value is **smaller** than the **parent node value**, and the **right child** value is **larger** than the **parent node value**.\n",
    "*    You need something to store the order of nodes in the BST.\n",
    "*    You may not need to traverse the entire tree to push the first smallest number.\n",
    "*    You probably have to recurse through the BST. How can you do so?\n",
    "*    You may need to code a helper method in addition to next() and hasNext().\n"
   ]
  },
  {
   "cell_type": "code",
   "execution_count": null,
   "metadata": {
    "colab": {},
    "colab_type": "code",
    "id": "ShwLftXzhkRo"
   },
   "outputs": [],
   "source": [
    "class Iterator:\n",
    "    def __init__(self, rootNode):\n",
    "        # Create your Iterator class\n",
    "        \n",
    "    def hasNext(self):\n",
    "        '''\n",
    "        Returns a boolean that checks if there are unprinted/unvisited nodes.\n",
    "        '''\n",
    "        # Your code here\n",
    "\n",
    "    def next(self):\n",
    "        '''\n",
    "        Returns the value of an unvisited node during inorder traversal\n",
    "        '''\n",
    "        # Your code here\n"
   ]
  },
  {
   "cell_type": "code",
   "execution_count": null,
   "metadata": {
    "colab": {},
    "colab_type": "code",
    "id": "Mmb2rWqaiJuU"
   },
   "outputs": [],
   "source": [
    "rootNode = Node(4) \n",
    "insertIntoBst(rootNode, Node(5))\n",
    "insertIntoBst(rootNode, Node(2)) \n",
    "insertIntoBst(rootNode, Node(1)) \n",
    "insertIntoBst(rootNode, Node(3))\n",
    "\n",
    "iterator = Iterator(root)\n",
    "while(iterator.hasNext()):\n",
    "    print(iterator.next())"
   ]
  }
 ],
 "metadata": {
  "colab": {
   "include_colab_link": true,
   "name": "How to Implement Binary Search Tree in Python 3.ipynb",
   "provenance": []
  },
  "kernelspec": {
   "display_name": "Python 3",
   "language": "python",
   "name": "python3"
  },
  "language_info": {
   "codemirror_mode": {
    "name": "ipython",
    "version": 3
   },
   "file_extension": ".py",
   "mimetype": "text/x-python",
   "name": "python",
   "nbconvert_exporter": "python",
   "pygments_lexer": "ipython3",
   "version": "3.7.4"
  }
 },
 "nbformat": 4,
 "nbformat_minor": 1
}
