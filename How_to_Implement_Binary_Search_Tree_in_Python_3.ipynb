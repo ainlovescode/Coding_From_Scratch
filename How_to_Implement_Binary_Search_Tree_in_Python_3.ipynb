{
  "nbformat": 4,
  "nbformat_minor": 0,
  "metadata": {
    "colab": {
      "name": "How to Implement Binary Search Tree in Python 3.ipynb",
      "provenance": []
    },
    "kernelspec": {
      "name": "python3",
      "display_name": "Python 3"
    }
  },
  "cells": [
    {
      "cell_type": "markdown",
      "metadata": {
        "id": "2f-uItFZUXM1",
        "colab_type": "text"
      },
      "source": [
        "## What is a Binary Search Tree?\n",
        "\n",
        "A **Binary Search Tree** or **BST** is a unique data structure that looks like a family tree. Each element in the tree is called a **node**, and stores some sort of chronological data - be it alphabetical or numerical.\n",
        "\n",
        "The **topmost node** on level 0 is also called the **root node**. The node(s) on the **lowest level** is called a **leaf / leaves**.\n",
        "\n",
        "Based on the diagram below, the root node is 7, and the leaves are 1, 5 and 14.\n",
        "\n",
        "<center>\n",
        "  <figure><img src=\"https://miro.medium.com/max/1424/1*F8MmBnUQyOA8-Rajg69nSQ.png\" width = 40%>\n",
        "  <br/>\n",
        "  <figcaption>Figure 1: Example of a Binary Search Tree</figcaption>\n",
        "  </figure>\n",
        "</center>\n",
        "<br/>\n",
        "\n",
        "## How does a BST organize its data?\n",
        "\n",
        "A BST organizes its data such that nodes in the **left subtree** of a node A are **smaller in value than** or **precedes** that of A. The diagram above shows that nodes with data 1, 2 and 5 are in the left subtree of the root node, which has a value of 7. Similarly, the node with value 2 has the node with value 1 in its left subtree.\n",
        "\n",
        "Conversely, the right subtree of a node A contains nodes of values **larger than** or **succeeding** that of node A. Check out the right subtree of the root node.\n",
        "\n",
        "Do take note that subtree nodes of node A are also called **children nodes** of A.\n",
        "\n",
        "## Traversing a BST i.e. exploring the data\n",
        "\n",
        "In computing, there are three main ways of traversing through a BST. We'll use Figure 1 as an example.\n",
        "*   PREORDER TRAVERSAL looks at the parent, left child then right child. Based on Figure 1 above, the traversal would be: 7, 2, 1, 5, 9, 14.\n",
        "\n",
        "*   INORDER TRAVERSAL looks at the left child, parent then right child. The traversal in Figure 1 would be: 1, 2, 5, 7, 9, 14. \n",
        "*   POSTORDER TRAVERSAL looks at the left child, right child then the parent. The traversal in Figure 1 would be: 1, 5, 2, 14, 9, 7.\n",
        "\n"
      ]
    },
    {
      "cell_type": "markdown",
      "metadata": {
        "id": "JMAC0FdkbDqD",
        "colab_type": "text"
      },
      "source": [
        "## Building a BST\n",
        "Every time you try to insert a new Node into a BST, the node will be arranged such that the BST is as described in **How does a BST organize its data?**.\n",
        "\n",
        "That means you need a way to **create a new node**,  **check the value of the nodes** as you traverse, and **assign the parent and child nodes** to each other.\n",
        "\n",
        "One way to implement the above is by starting with a Node object class. This Node will store the node's value, and children nodes if they exist. Check out the code below!"
      ]
    },
    {
      "cell_type": "code",
      "metadata": {
        "id": "VrS4ePFPaoMY",
        "colab_type": "code",
        "colab": {}
      },
      "source": [
        "class Node:\n",
        "    def __init__(self, val):\n",
        "        self.val = val\n",
        "        self.left = None\n",
        "        self.right = None"
      ],
      "execution_count": 0,
      "outputs": []
    },
    {
      "cell_type": "markdown",
      "metadata": {
        "id": "icMlT4XpuESo",
        "colab_type": "text"
      },
      "source": [
        "Let's also create a method to insert the node to build our BST by **assigning it its parent node**, and whether the new node will be its **parent's left or right child node**."
      ]
    },
    {
      "cell_type": "code",
      "metadata": {
        "id": "nUxL9-Vzn7ZU",
        "colab_type": "code",
        "colab": {}
      },
      "source": [
        "def insertIntoBst(rootNode, newNode):\n",
        "    \"\"\"A method that inserts newNode into rootNode's tree\"\"\"\n",
        "    if rootNode.val is None:\n",
        "        raise Exception(\"Missing root node\")\n",
        "    elif newNode.val is None:\n",
        "        raise Exception(\"New node not initialised yet\")            \n",
        "    else:\n",
        "        if newNode.val > rootNode.val:\n",
        "            if rootNode.right is None:\n",
        "                rootNode.right = newNode\n",
        "            else:\n",
        "                insertIntoBst(rootNode.right, newNode)\n",
        "        elif newNode.val < rootNode.val:\n",
        "            if rootNode.left is None:\n",
        "                rootNode.left = newNode\n",
        "            else:\n",
        "                insertIntoBst(rootNode.left, newNode)\n",
        "        else:\n",
        "            rootNode.val = val"
      ],
      "execution_count": 0,
      "outputs": []
    },
    {
      "cell_type": "markdown",
      "metadata": {
        "id": "LvitdOEFu9Al",
        "colab_type": "text"
      },
      "source": [
        "Cool! Now let's build our first BST. It should look like this:\n"
      ]
    },
    {
      "cell_type": "code",
      "metadata": {
        "id": "2XpFNm6foT1L",
        "colab_type": "code",
        "colab": {}
      },
      "source": [
        "root = Node(4) \n",
        "insertIntoBst(root, Node(5))\n",
        "insertIntoBst(root, Node(2)) \n",
        "insertIntoBst(root, Node(1)) \n",
        "insertIntoBst(root, Node(3))"
      ],
      "execution_count": 0,
      "outputs": []
    },
    {
      "cell_type": "code",
      "metadata": {
        "id": "CrDaZXQIoLQc",
        "colab_type": "code",
        "colab": {}
      },
      "source": [
        "# Three ways of Traversing a Binary Search Tree\t\n",
        "def preorder(root): # root, left, right\n",
        "    print(root.val)\t\t\n",
        "    if root.left != None:\n",
        "        preorder(root.left)\n",
        "    if root.right != None:\n",
        "        preorder(root.right)\n",
        "\t\n",
        "def inorder(root): # left, root, right\n",
        "    if root.left != None:\n",
        "        inorder(root.left)\n",
        "    print(root.val)\n",
        "    if root.right != None:\n",
        "        inorder(root.right)\n",
        "\n",
        "def postorder(root): # left, right, root\n",
        "    if root.left != None:\n",
        "        postorder(root.left)\n",
        "    if root.right != None:\n",
        "        postorder(root.right)\n",
        "    print(root.val)"
      ],
      "execution_count": 0,
      "outputs": []
    },
    {
      "cell_type": "code",
      "metadata": {
        "id": "17gMGh31t9zw",
        "colab_type": "code",
        "colab": {}
      },
      "source": [
        "print(\"Preorder traversal of binary tree is\")\n",
        "preorder(root) \n",
        "  \n",
        "print(\"\\nInorder traversal of binary tree is\")\n",
        "inorder(root) \n",
        "  \n",
        "print(\"\\nPostorder traversal of binary tree is\")\n",
        "postorder(root)\t"
      ],
      "execution_count": 0,
      "outputs": []
    }
  ]
}